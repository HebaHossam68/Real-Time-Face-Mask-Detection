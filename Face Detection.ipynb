{
  "nbformat": 4,
  "nbformat_minor": 0,
  "metadata": {
    "colab": {
      "provenance": []
    },
    "kernelspec": {
      "name": "python3",
      "display_name": "Python 3"
    },
    "language_info": {
      "name": "python"
    }
  },
  "cells": [
    {
      "cell_type": "code",
      "execution_count": 45,
      "metadata": {
        "id": "ckws9JZOF3xy"
      },
      "outputs": [],
      "source": [
        "#import libraries\n",
        "from tensorflow.keras.preprocessing.image import ImageDataGenerator\n",
        "from tensorflow.keras.applications import mobilenet_v2\n",
        "from tensorflow.keras.layers import AveragePooling2D\n",
        "from tensorflow.keras.layers import Dropout\n",
        "from tensorflow.keras.layers import Flatten\n",
        "from tensorflow.keras.layers import Dense\n",
        "from tensorflow.keras.layers import Input\n",
        "from tensorflow.keras.models import Model\n",
        "from tensorflow.keras.optimizers import Adam\n",
        "from tensorflow.keras.applications.mobilenet_v2 import preprocess_input\n",
        "from tensorflow.keras.preprocessing.image import img_to_array\n",
        "from tensorflow.keras.preprocessing.image import load_img\n",
        "from tensorflow.keras.utils import to_categorical\n",
        "from sklearn.preprocessing import LabelBinarizer\n",
        "from sklearn.model_selection import train_test_split\n",
        "from sklearn.metrics import classification_report\n",
        "from imutils import paths\n",
        "import matplotlib.pyplot as plt\n",
        "import numpy as np\n",
        "import os"
      ]
    },
    {
      "cell_type": "code",
      "source": [
        "LR=1e-4   #0.00001\n",
        "EPOCHS=20\n",
        "BS=32\n",
        "Data='/content/drive/MyDrive/dataset'\n",
        "Categories=['with mask','without mask']\n",
        "data=[]\n",
        "labels=[]\n",
        "\n",
        "print(\"[Info ] loading images ..\")\n",
        "\n",
        "for category in Categories:\n",
        "  path=os.path.join(Data,category)\n",
        "  for img in os.listdir(path):\n",
        "    img_path=os.path.join(path,img)\n",
        "    image=load_img(img_path,target_size=(224,224))\n",
        "    image=img_to_array(image)\n",
        "    image=preprocess_input(image)\n",
        "\n",
        "    data.append(image)\n",
        "    labels.append(category)"
      ],
      "metadata": {
        "colab": {
          "base_uri": "https://localhost:8080/"
        },
        "id": "x0oUwCB9Kym5",
        "outputId": "19e39788-b463-43fa-dc4a-6b5ca4717b50"
      },
      "execution_count": 46,
      "outputs": [
        {
          "output_type": "stream",
          "name": "stdout",
          "text": [
            "[Info ] loading images ..\n"
          ]
        }
      ]
    },
    {
      "cell_type": "code",
      "source": [
        "lb=LabelBinarizer()\n",
        "labels=lb.fit_transform(labels)\n",
        "labels=to_categorical(labels)\n",
        "data=np.array(data,dtype=\"float32\")\n",
        "labels=np.array(labels)"
      ],
      "metadata": {
        "id": "Tkk4vDSrVnSx"
      },
      "execution_count": 47,
      "outputs": []
    },
    {
      "cell_type": "code",
      "source": [
        "x_train,x_test,y_train,y_test=train_test_split(data,labels,test_size=0.20,stratify=labels,random_state=42)"
      ],
      "metadata": {
        "id": "4DspL1m5WJti"
      },
      "execution_count": 48,
      "outputs": []
    },
    {
      "cell_type": "code",
      "source": [
        "aug=ImageDataGenerator(\n",
        "    rotation_range=20,\n",
        "    zoom_range=0.15,\n",
        "    width_shift_range=0.2,\n",
        "    height_shift_range=0.2,\n",
        "    shear_range=0.15,\n",
        "    horizontal_flip=True,\n",
        "    fill_mode=\"nearest\")\n"
      ],
      "metadata": {
        "id": "lFsNb0kAW3wU"
      },
      "execution_count": 49,
      "outputs": []
    },
    {
      "cell_type": "code",
      "source": [
        "from tensorflow.keras.applications import MobileNetV2\n",
        "from tensorflow.keras.layers import AveragePooling2D, Flatten, Dense, Dropout, Input\n",
        "from tensorflow.keras.models import Model\n",
        "\n",
        "# Load MobileNetV2 without the top (fully connected) layers\n",
        "baseModel = MobileNetV2(weights=\"imagenet\", include_top=False, input_tensor=Input(shape=(224, 224, 3)))\n",
        "\n",
        "# Build the head of the model\n",
        "headModel = baseModel.output\n",
        "headModel = AveragePooling2D(pool_size=(7, 7))(headModel)\n",
        "headModel = Flatten(name=\"flatten\")(headModel)\n",
        "headModel = Dense(128, activation=\"relu\")(headModel)\n",
        "headModel = Dropout(0.5)(headModel)\n",
        "headModel = Dense(2, activation=\"softmax\")(headModel)\n",
        "\n",
        "# Create the final model\n",
        "model = Model(inputs=baseModel.input, outputs=headModel)\n"
      ],
      "metadata": {
        "colab": {
          "base_uri": "https://localhost:8080/"
        },
        "id": "Xs-zwagmXhaO",
        "outputId": "40df27f3-af8f-475b-f571-03c02ac4bf56"
      },
      "execution_count": 50,
      "outputs": [
        {
          "output_type": "stream",
          "name": "stderr",
          "text": [
            "WARNING:tensorflow:`input_shape` is undefined or non-square, or `rows` is not in [96, 128, 160, 192, 224]. Weights for input shape (224, 224) will be loaded as the default.\n"
          ]
        }
      ]
    },
    {
      "cell_type": "code",
      "source": [
        "import tensorflow as tf\n",
        "for layer in baseModel.layers:\n",
        "  layer.trainble=False\n",
        "print(\"[Info] compiling model ...\")\n",
        "lr_schedule =tf.keras.optimizers.schedules.ExponentialDecay(\n",
        "    LR, decay_steps=10000, decay_rate=0.9\n",
        ")\n",
        "opt = Adam(learning_rate=lr_schedule)\n",
        "model.compile(loss=\"binary_crossentropy\",optimizer=opt,metrics=[\"accuracy\"])\n",
        "print(\"[Info] training head ...\")\n",
        "H=model.fit(\n",
        "    aug.flow(x_train,y_train,batch_size=BS),\n",
        "    steps_per_epoch=len(x_train) // BS,\n",
        "    validation_data=(x_test,y_test),\n",
        "    validation_steps=len(x_test)//BS,\n",
        "    epochs=EPOCHS\n",
        ")"
      ],
      "metadata": {
        "colab": {
          "base_uri": "https://localhost:8080/"
        },
        "id": "Vlt2s9uWikun",
        "outputId": "1fda8fd2-b2ff-43ca-c22d-48c5b3bb15cc"
      },
      "execution_count": 52,
      "outputs": [
        {
          "output_type": "stream",
          "name": "stdout",
          "text": [
            "[Info] compiling model ...\n",
            "[Info] training head ...\n",
            "Epoch 1/20\n",
            "38/38 [==============================] - 241s 6s/step - loss: 0.2984 - accuracy: 0.8912 - val_loss: 0.0387 - val_accuracy: 0.9935\n",
            "Epoch 2/20\n",
            "38/38 [==============================] - 219s 6s/step - loss: 0.0319 - accuracy: 0.9950 - val_loss: 0.0175 - val_accuracy: 0.9967\n",
            "Epoch 3/20\n",
            "38/38 [==============================] - 220s 6s/step - loss: 0.0163 - accuracy: 0.9942 - val_loss: 0.0165 - val_accuracy: 0.9935\n",
            "Epoch 4/20\n",
            "38/38 [==============================] - 221s 6s/step - loss: 0.0055 - accuracy: 1.0000 - val_loss: 0.0108 - val_accuracy: 0.9967\n",
            "Epoch 5/20\n",
            "38/38 [==============================] - 216s 6s/step - loss: 0.0040 - accuracy: 1.0000 - val_loss: 0.0096 - val_accuracy: 0.9967\n",
            "Epoch 6/20\n",
            "38/38 [==============================] - 214s 6s/step - loss: 0.0031 - accuracy: 1.0000 - val_loss: 0.0084 - val_accuracy: 0.9967\n",
            "Epoch 7/20\n",
            "38/38 [==============================] - 209s 6s/step - loss: 0.0038 - accuracy: 0.9983 - val_loss: 0.0067 - val_accuracy: 0.9967\n",
            "Epoch 8/20\n",
            "38/38 [==============================] - 206s 5s/step - loss: 0.0041 - accuracy: 0.9992 - val_loss: 0.0074 - val_accuracy: 1.0000\n",
            "Epoch 9/20\n",
            "38/38 [==============================] - 219s 6s/step - loss: 0.0086 - accuracy: 0.9992 - val_loss: 0.0170 - val_accuracy: 0.9902\n",
            "Epoch 10/20\n",
            "38/38 [==============================] - 208s 5s/step - loss: 0.0016 - accuracy: 1.0000 - val_loss: 0.0159 - val_accuracy: 0.9935\n",
            "Epoch 11/20\n",
            "38/38 [==============================] - 210s 6s/step - loss: 0.0014 - accuracy: 1.0000 - val_loss: 0.0118 - val_accuracy: 0.9935\n",
            "Epoch 12/20\n",
            "38/38 [==============================] - 207s 5s/step - loss: 8.7739e-04 - accuracy: 1.0000 - val_loss: 0.0089 - val_accuracy: 0.9967\n",
            "Epoch 13/20\n",
            "38/38 [==============================] - 208s 5s/step - loss: 6.5918e-04 - accuracy: 1.0000 - val_loss: 0.0070 - val_accuracy: 0.9967\n",
            "Epoch 14/20\n",
            "38/38 [==============================] - 203s 5s/step - loss: 5.6707e-04 - accuracy: 1.0000 - val_loss: 0.0048 - val_accuracy: 0.9967\n",
            "Epoch 15/20\n",
            "38/38 [==============================] - 208s 5s/step - loss: 8.2832e-04 - accuracy: 1.0000 - val_loss: 0.0023 - val_accuracy: 1.0000\n",
            "Epoch 16/20\n",
            "38/38 [==============================] - 217s 6s/step - loss: 4.9249e-04 - accuracy: 1.0000 - val_loss: 8.9384e-04 - val_accuracy: 1.0000\n",
            "Epoch 17/20\n",
            "38/38 [==============================] - 206s 5s/step - loss: 5.2356e-04 - accuracy: 1.0000 - val_loss: 8.4620e-04 - val_accuracy: 1.0000\n",
            "Epoch 18/20\n",
            "38/38 [==============================] - 205s 5s/step - loss: 6.3031e-04 - accuracy: 1.0000 - val_loss: 7.5020e-04 - val_accuracy: 1.0000\n",
            "Epoch 19/20\n",
            "38/38 [==============================] - 209s 6s/step - loss: 0.0011 - accuracy: 1.0000 - val_loss: 4.7782e-04 - val_accuracy: 1.0000\n",
            "Epoch 20/20\n",
            "38/38 [==============================] - 209s 5s/step - loss: 3.2018e-04 - accuracy: 1.0000 - val_loss: 4.6107e-04 - val_accuracy: 1.0000\n"
          ]
        }
      ]
    },
    {
      "cell_type": "code",
      "source": [
        "for l in model.layers:\n",
        "  print(l.name,l.trainable)"
      ],
      "metadata": {
        "id": "czDhz1UQ83qq",
        "outputId": "4930f7fc-3f91-45ad-a3d1-958e63c2bf77",
        "colab": {
          "base_uri": "https://localhost:8080/"
        }
      },
      "execution_count": 53,
      "outputs": [
        {
          "output_type": "stream",
          "name": "stdout",
          "text": [
            "input_10 True\n",
            "Conv1 True\n",
            "bn_Conv1 True\n",
            "Conv1_relu True\n",
            "expanded_conv_depthwise True\n",
            "expanded_conv_depthwise_BN True\n",
            "expanded_conv_depthwise_relu True\n",
            "expanded_conv_project True\n",
            "expanded_conv_project_BN True\n",
            "block_1_expand True\n",
            "block_1_expand_BN True\n",
            "block_1_expand_relu True\n",
            "block_1_pad True\n",
            "block_1_depthwise True\n",
            "block_1_depthwise_BN True\n",
            "block_1_depthwise_relu True\n",
            "block_1_project True\n",
            "block_1_project_BN True\n",
            "block_2_expand True\n",
            "block_2_expand_BN True\n",
            "block_2_expand_relu True\n",
            "block_2_depthwise True\n",
            "block_2_depthwise_BN True\n",
            "block_2_depthwise_relu True\n",
            "block_2_project True\n",
            "block_2_project_BN True\n",
            "block_2_add True\n",
            "block_3_expand True\n",
            "block_3_expand_BN True\n",
            "block_3_expand_relu True\n",
            "block_3_pad True\n",
            "block_3_depthwise True\n",
            "block_3_depthwise_BN True\n",
            "block_3_depthwise_relu True\n",
            "block_3_project True\n",
            "block_3_project_BN True\n",
            "block_4_expand True\n",
            "block_4_expand_BN True\n",
            "block_4_expand_relu True\n",
            "block_4_depthwise True\n",
            "block_4_depthwise_BN True\n",
            "block_4_depthwise_relu True\n",
            "block_4_project True\n",
            "block_4_project_BN True\n",
            "block_4_add True\n",
            "block_5_expand True\n",
            "block_5_expand_BN True\n",
            "block_5_expand_relu True\n",
            "block_5_depthwise True\n",
            "block_5_depthwise_BN True\n",
            "block_5_depthwise_relu True\n",
            "block_5_project True\n",
            "block_5_project_BN True\n",
            "block_5_add True\n",
            "block_6_expand True\n",
            "block_6_expand_BN True\n",
            "block_6_expand_relu True\n",
            "block_6_pad True\n",
            "block_6_depthwise True\n",
            "block_6_depthwise_BN True\n",
            "block_6_depthwise_relu True\n",
            "block_6_project True\n",
            "block_6_project_BN True\n",
            "block_7_expand True\n",
            "block_7_expand_BN True\n",
            "block_7_expand_relu True\n",
            "block_7_depthwise True\n",
            "block_7_depthwise_BN True\n",
            "block_7_depthwise_relu True\n",
            "block_7_project True\n",
            "block_7_project_BN True\n",
            "block_7_add True\n",
            "block_8_expand True\n",
            "block_8_expand_BN True\n",
            "block_8_expand_relu True\n",
            "block_8_depthwise True\n",
            "block_8_depthwise_BN True\n",
            "block_8_depthwise_relu True\n",
            "block_8_project True\n",
            "block_8_project_BN True\n",
            "block_8_add True\n",
            "block_9_expand True\n",
            "block_9_expand_BN True\n",
            "block_9_expand_relu True\n",
            "block_9_depthwise True\n",
            "block_9_depthwise_BN True\n",
            "block_9_depthwise_relu True\n",
            "block_9_project True\n",
            "block_9_project_BN True\n",
            "block_9_add True\n",
            "block_10_expand True\n",
            "block_10_expand_BN True\n",
            "block_10_expand_relu True\n",
            "block_10_depthwise True\n",
            "block_10_depthwise_BN True\n",
            "block_10_depthwise_relu True\n",
            "block_10_project True\n",
            "block_10_project_BN True\n",
            "block_11_expand True\n",
            "block_11_expand_BN True\n",
            "block_11_expand_relu True\n",
            "block_11_depthwise True\n",
            "block_11_depthwise_BN True\n",
            "block_11_depthwise_relu True\n",
            "block_11_project True\n",
            "block_11_project_BN True\n",
            "block_11_add True\n",
            "block_12_expand True\n",
            "block_12_expand_BN True\n",
            "block_12_expand_relu True\n",
            "block_12_depthwise True\n",
            "block_12_depthwise_BN True\n",
            "block_12_depthwise_relu True\n",
            "block_12_project True\n",
            "block_12_project_BN True\n",
            "block_12_add True\n",
            "block_13_expand True\n",
            "block_13_expand_BN True\n",
            "block_13_expand_relu True\n",
            "block_13_pad True\n",
            "block_13_depthwise True\n",
            "block_13_depthwise_BN True\n",
            "block_13_depthwise_relu True\n",
            "block_13_project True\n",
            "block_13_project_BN True\n",
            "block_14_expand True\n",
            "block_14_expand_BN True\n",
            "block_14_expand_relu True\n",
            "block_14_depthwise True\n",
            "block_14_depthwise_BN True\n",
            "block_14_depthwise_relu True\n",
            "block_14_project True\n",
            "block_14_project_BN True\n",
            "block_14_add True\n",
            "block_15_expand True\n",
            "block_15_expand_BN True\n",
            "block_15_expand_relu True\n",
            "block_15_depthwise True\n",
            "block_15_depthwise_BN True\n",
            "block_15_depthwise_relu True\n",
            "block_15_project True\n",
            "block_15_project_BN True\n",
            "block_15_add True\n",
            "block_16_expand True\n",
            "block_16_expand_BN True\n",
            "block_16_expand_relu True\n",
            "block_16_depthwise True\n",
            "block_16_depthwise_BN True\n",
            "block_16_depthwise_relu True\n",
            "block_16_project True\n",
            "block_16_project_BN True\n",
            "Conv_1 True\n",
            "Conv_1_bn True\n",
            "out_relu True\n",
            "average_pooling2d_3 True\n",
            "flatten True\n",
            "dense_6 True\n",
            "dropout_3 True\n",
            "dense_7 True\n"
          ]
        }
      ]
    },
    {
      "cell_type": "code",
      "source": [
        "print(\"[INFO] evaluating network...\")\n",
        "pred=model.predict(x_test,batch_size=BS)\n",
        "pred=np.argmax(pred,axis=1)"
      ],
      "metadata": {
        "id": "wSTXsKsq9U_r",
        "outputId": "7a9b8ad4-d546-4fec-c11f-ea3328242b11",
        "colab": {
          "base_uri": "https://localhost:8080/"
        }
      },
      "execution_count": 54,
      "outputs": [
        {
          "output_type": "stream",
          "name": "stdout",
          "text": [
            "[INFO] evaluating network...\n",
            "10/10 [==============================] - 10s 828ms/step\n"
          ]
        }
      ]
    },
    {
      "cell_type": "code",
      "source": [
        "print(classification_report(y_test.argmax(axis=1),pred,target_names=lb.classes_))"
      ],
      "metadata": {
        "id": "QnKCKAUE-KCx",
        "outputId": "3628f8da-865d-43e3-9177-9e429317877a",
        "colab": {
          "base_uri": "https://localhost:8080/"
        }
      },
      "execution_count": 55,
      "outputs": [
        {
          "output_type": "stream",
          "name": "stdout",
          "text": [
            "              precision    recall  f1-score   support\n",
            "\n",
            "   with mask       1.00      1.00      1.00       158\n",
            "without mask       1.00      1.00      1.00       149\n",
            "\n",
            "    accuracy                           1.00       307\n",
            "   macro avg       1.00      1.00      1.00       307\n",
            "weighted avg       1.00      1.00      1.00       307\n",
            "\n"
          ]
        }
      ]
    },
    {
      "cell_type": "code",
      "source": [
        "print(\"[INFO] saving mask_detector ...\")\n",
        "model.save(\"mask_detector.model\",save_format=\"h5\")"
      ],
      "metadata": {
        "id": "3gv2OhIy-pNs",
        "outputId": "29d8271d-43ae-471b-aab3-a7ebb70d325c",
        "colab": {
          "base_uri": "https://localhost:8080/"
        }
      },
      "execution_count": 56,
      "outputs": [
        {
          "output_type": "stream",
          "name": "stdout",
          "text": [
            "[INFO] saving mask_detector ...\n"
          ]
        },
        {
          "output_type": "stream",
          "name": "stderr",
          "text": [
            "/usr/local/lib/python3.10/dist-packages/keras/src/engine/training.py:3000: UserWarning: You are saving your model as an HDF5 file via `model.save()`. This file format is considered legacy. We recommend using instead the native Keras format, e.g. `model.save('my_model.keras')`.\n",
            "  saving_api.save_model(\n"
          ]
        }
      ]
    },
    {
      "cell_type": "code",
      "source": [
        "N=EPOCHS\n",
        "plt.style.use(\"ggplot\")\n",
        "plt.figure()\n",
        "plt.plot(np.arange(0,N),H.history[\"loss\"],label=\"train_loss\")\n",
        "plt.plot(np.arange(0,N),H.history[\"val_loss\"],label=\"val_loss\")\n",
        "plt.plot(np.arange(0,N),H.history[\"accuracy\"],label=\"train_acc\")\n",
        "plt.plot(np.arange(0,N),H.history[\"val_accuracy\"],label=\"val_acc\")\n",
        "plt.title(\"Training Loss and Accuracy\")\n",
        "plt.xlabel(\"Epoch #\")\n",
        "plt.ylabel(\"Loss/Accuracy\")\n",
        "plt.legend(loc=\"lower left\")\n",
        "plt.savefig(\"plot.png\")"
      ],
      "metadata": {
        "id": "HR-YnZ0v_GMO",
        "outputId": "231a1cbe-8b26-4c9d-b12b-b8e194c33cec",
        "colab": {
          "base_uri": "https://localhost:8080/",
          "height": 477
        }
      },
      "execution_count": 58,
      "outputs": [
        {
          "output_type": "display_data",
          "data": {
            "text/plain": [
              "<Figure size 640x480 with 1 Axes>"
            ],
            "image/png": "[encoded data removed]"
          },
          "metadata": {}
        }
      ]
    }
  ]
}