{
  "nbformat": 4,
  "nbformat_minor": 0,
  "metadata": {
    "colab": {
      "provenance": []
    },
    "kernelspec": {
      "name": "python3",
      "display_name": "Python 3"
    },
    "language_info": {
      "name": "python"
    }
  },
  "cells": [
    {
      "cell_type": "code",
      "execution_count": 1,
      "metadata": {
        "id": "ZngLLTK1sc7b"
      },
      "outputs": [],
      "source": [
        "from tensorflow.keras.preprocessing.image import ImageDataGenerator\n",
        "from tensorflow.keras.applications import mobilenet_v2\n",
        "from tensorflow.keras.layers import AveragePooling2D\n",
        "from tensorflow.keras.layers import Dropout\n",
        "from tensorflow.keras.layers import Flatten\n",
        "from tensorflow.keras.layers import Dense\n",
        "from tensorflow.keras.layers import Input\n",
        "from tensorflow.keras.models import Model\n",
        "from tensorflow.keras.optimizers import Adam\n",
        "from tensorflow.keras.applications.mobilenet_v2 import preprocess_input\n",
        "from tensorflow.keras.preprocessing.image import img_to_array\n",
        "from tensorflow.keras.preprocessing.image import load_img\n",
        "from tensorflow.keras.utils import to_categorical\n",
        "from sklearn.preprocessing import LabelBinarizer\n",
        "from sklearn.model_selection import train_test_split\n",
        "from sklearn.metrics import classification_report\n",
        "from imutils import paths\n",
        "import matplotlib.pyplot as plt\n",
        "import numpy as np\n",
        "import os"
      ]
    },
    {
      "cell_type": "code",
      "source": [
        "import cv2\n",
        "import tensorflow as tf\n"
      ],
      "metadata": {
        "id": "nqncfOL_ts-d"
      },
      "execution_count": 2,
      "outputs": []
    },
    {
      "cell_type": "code",
      "source": [
        "\n",
        "\n",
        "# Load the trained mask detection model\n",
        "model = tf.keras.models.load_model(\"/content/mask_detector.model\")\n",
        "\n",
        "# Initialize the video stream\n",
        "vs = cv2.VideoCapture(0)  # 0 for the default camera, you can change this if you have multiple cameras\n",
        "\n",
        "while True:\n",
        "    # Read a frame from the video stream\n",
        "    ret, frame = vs.read()\n",
        "\n",
        "    if not ret:\n",
        "        break\n",
        "\n",
        "    # Resize the frame to match the input size of your model (224x224)\n",
        "    frame = cv2.resize(frame, (224, 224))\n",
        "\n",
        "    # Preprocess the frame for prediction\n",
        "    frame = preprocess_input(frame)\n",
        "\n",
        "    # Expand the dimensions of the frame to match the model's input shape\n",
        "    frame = np.expand_dims(frame, axis=0)\n",
        "\n",
        "    # Perform inference to predict whether the person is wearing a mask or not\n",
        "    predictions = model.predict(frame)\n",
        "\n",
        "    # Get the label with the highest probability (0 for 'with mask', 1 for 'without mask')\n",
        "    label = np.argmax(predictions, axis=1)[0]\n",
        "\n",
        "    # Define the label and color for the bounding box\n",
        "    if label == 0:\n",
        "        label_text = \"With Mask\"\n",
        "        color = (0, 255, 0)  # Green\n",
        "    else:\n",
        "        label_text = \"Without Mask\"\n",
        "        color = (0, 0, 255)  # Red\n",
        "\n",
        "    # Display the label and bounding box on the frame\n",
        "    cv2.putText(frame, label_text, (10, 30), cv2.FONT_HERSHEY_SIMPLEX, 1, color, 2)\n",
        "    cv2.rectangle(frame, (10, 10), (frame.shape[1] - 10, frame.shape[0] - 10), color, 2)\n",
        "\n",
        "    # Show the frame with the label\n",
        "    cv2.imshow(\"Face Mask Detection\", frame)\n",
        "\n",
        "    # Break the loop when 'q' key is pressed\n",
        "    if cv2.waitKey(1) & 0xFF == ord('q'):\n",
        "        break\n",
        "\n",
        "# Release the video stream and close OpenCV windows\n",
        "\n"
      ],
      "metadata": {
        "id": "Y3P83gyFt0Ac"
      },
      "execution_count": 4,
      "outputs": []
    },
    {
      "cell_type": "code",
      "source": [
        "vs.release()\n",
        "cv2.destroyAllWindows()"
      ],
      "metadata": {
        "id": "Omp1cJFpAl-g"
      },
      "execution_count": 5,
      "outputs": []
    }
  ]
}